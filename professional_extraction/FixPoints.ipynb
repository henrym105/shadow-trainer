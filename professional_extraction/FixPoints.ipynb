{
  "cells": [
    {
      "cell_type": "code",
      "execution_count": null,
      "metadata": {
        "colab": {
          "base_uri": "https://localhost:8080/"
        },
        "id": "F9QyhHHxexEB",
        "outputId": "c6178eb4-30af-48a5-c6e4-f6763c6376c5"
      },
      "outputs": [
        {
          "name": "stdout",
          "output_type": "stream",
          "text": [
            "C:\\Users\\devae\\OneDrive\\Desktop\\MotionAGFormer\\test_vid\\MichaelWacha.mp4\n",
            "Video loaded successfully. Shape: (139, 528, 570, 3)\n",
            "Keypoints file loaded successfully.\n"
          ]
        }
      ],
      "source": [
        "import numpy as np\n",
        "import cv2\n",
        "pitcher_name = 'MichaelWacha'  # Replace with the actual pitcher name\n",
        "video_path =  'C:\\\\Users\\\\devae\\\\OneDrive\\\\Desktop\\\\MotionAGFormer\\\\test_vid\\\\'\n",
        "print(video_path+pitcher_name+'.mp4')\n",
        "# Open the video file\n",
        "cap = cv2.VideoCapture(video_path+pitcher_name+'.mp4')\n",
        "\n",
        "# Check if video opened successfully\n",
        "if not cap.isOpened():\n",
        "    print(\"Error: Could not open video.\")\n",
        "else:\n",
        "    frames = []\n",
        "    while cap.isOpened():\n",
        "        ret, frame = cap.read()\n",
        "        if not ret:\n",
        "            break\n",
        "        frames.append(frame)\n",
        "\n",
        "    # Convert frames to a numpy array\n",
        "    video_array = np.array(frames)\n",
        "    print(f\"Video loaded successfully. Shape: {video_array.shape}\")\n",
        "\n",
        "    # Release the video capture object\n",
        "    cap.release()\n",
        "\n",
        "# Load the keypoints file\n",
        "try:\n",
        "    keypoints_array = np.load(video_path+pitcher_name+'.npz')\n",
        "    # Assuming keypoints.npz contains a single array, access it like this:\n",
        "    # keypoints_data = keypoints_array['arr_0'] # Or the correct key if known\n",
        "    print(\"Keypoints file loaded successfully.\") # Add more specific message if key is known\n",
        "except FileNotFoundError:\n",
        "    print(\"Error: keypoints.npz not found.\")\n",
        "except Exception as e:\n",
        "    print(f\"An error occurred while loading keypoints: {e}\")\n",
        "\n",
        "# You now have video_array and potentially keypoints_data (depending on the structure of keypoints.npz)\n",
        "# You can perform further operations with these arrays."
      ]
    },
    {
      "cell_type": "code",
      "execution_count": 40,
      "metadata": {
        "id": "EGU1RrROfmPV"
      },
      "outputs": [],
      "source": [
        "keypoints = keypoints_array['reconstruction']"
      ]
    },
    {
      "cell_type": "code",
      "execution_count": 41,
      "metadata": {
        "colab": {
          "base_uri": "https://localhost:8080/"
        },
        "id": "zHazDVTEgRFT",
        "outputId": "5b55cc82-68d2-4063-a40a-4f4e2de468d2"
      },
      "outputs": [
        {
          "data": {
            "text/plain": [
              "(1, 139, 17, 3)"
            ]
          },
          "execution_count": 41,
          "metadata": {},
          "output_type": "execute_result"
        }
      ],
      "source": [
        "keypoints.shape"
      ]
    },
    {
      "cell_type": "code",
      "execution_count": 42,
      "metadata": {
        "id": "iVA3eFjWhOr0"
      },
      "outputs": [],
      "source": [
        "import cv2\n",
        "import numpy as np\n",
        "\n",
        "class PointEditor:\n",
        "    def __init__(self, video, points_3d, scale=2.0, radius=3):\n",
        "        \"\"\"\n",
        "        Args:\n",
        "            video: numpy array of shape (num_frames, H, W, 3)\n",
        "            points_3d: numpy array of shape (num_frames, num_points, 3) => (x, y, confidence)\n",
        "            scale: float, how much to scale up the displayed frame\n",
        "            radius: int, radius of the keypoints displayed\n",
        "        \"\"\"\n",
        "        self.video = video\n",
        "        self.points = points_3d.copy()\n",
        "        self.original_points = points_3d.copy()\n",
        "        self.edited_flags = np.any(self.points[..., :2] != self.original_points[..., :2], axis=-1)\n",
        "        self.current_frame = 0\n",
        "        self.dragging_point = None\n",
        "        self.radius = radius\n",
        "        self.scale = scale\n",
        "\n",
        "        # Define 17 distinct colors (BGR)\n",
        "        self.point_colors = [\n",
        "            (0, 0, 255),       # 0 - Red\n",
        "            (0, 128, 255),     # 1 - Orange\n",
        "            (0, 255, 255),     # 2 - Yellow\n",
        "            (0, 255, 0),       # 3 - Green\n",
        "            (255, 255, 0),     # 4 - Cyan\n",
        "            (255, 0, 0),       # 5 - Blue\n",
        "            (255, 0, 255),     # 6 - Purple\n",
        "            (128, 0, 128),     # 7 - Violet\n",
        "            (128, 128, 0),     # 8 - Olive\n",
        "            (0, 128, 128),     # 9 - Teal\n",
        "            (128, 0, 0),       # 10 - Maroon\n",
        "            (0, 0, 128),       # 11 - Navy\n",
        "            (0, 255, 128),     # 12 - Light Green\n",
        "            (255, 128, 0),     # 13 - Light Orange\n",
        "            (255, 0, 128),     # 14 - Pinkish\n",
        "            (128, 255, 0),     # 15 - Lime\n",
        "            (128, 128, 255),   # 16 - Light Blue\n",
        "        ]\n",
        "\n",
        "        # Define lines as pairs of point indices\n",
        "        self.lines = [\n",
        "            (5, 6),  # Blue and Purple\n",
        "            (2, 3),  # Yellow and Green\n",
        "            (1, 2),  # Orange and Yellow\n",
        "            (4, 5),  # Cyan and Blue\n",
        "            (15,16),  # Lime and Light Blue\n",
        "            (14,15),\n",
        "            (12,13),  # Light Green and Light Orange\n",
        "            (11,12)\n",
        "        ]\n",
        "\n",
        "    def edit(self):\n",
        "        cv2.namedWindow(\"Frame\")\n",
        "        cv2.setMouseCallback(\"Frame\", self.mouse_event)\n",
        "\n",
        "        while self.current_frame < len(self.video):\n",
        "            self.frame = self.video[self.current_frame].copy()\n",
        "            frame_points = self.points[self.current_frame]\n",
        "\n",
        "            while True:\n",
        "                display = self.frame.copy()\n",
        "\n",
        "                # Draw lines between specified point pairs\n",
        "                for i, j in self.lines:\n",
        "                    x1, y1, c1 = frame_points[i]\n",
        "                    x2, y2, c2 = frame_points[j]\n",
        "                    pt1 = (int(x1), int(y1))\n",
        "                    pt2 = (int(x2), int(y2))\n",
        "                    cv2.line(display, pt1, pt2, (255, 255, 255), 1)  # White line\n",
        "\n",
        "                # Draw points\n",
        "                for idx, pt in enumerate(frame_points):\n",
        "                    x, y, conf = pt\n",
        "                    color = self.point_colors[idx % len(self.point_colors)]\n",
        "                    cv2.circle(display, (int(x), int(y)), self.radius, color, -1)\n",
        "\n",
        "                # Resize the frame\n",
        "                display_resized = cv2.resize(display, None, fx=self.scale, fy=self.scale, interpolation=cv2.INTER_LINEAR)\n",
        "\n",
        "                cv2.putText(display_resized,\n",
        "                            f'Frame {self.current_frame+1}/{len(self.video)} - \"n\": next, \"esc\": exit',\n",
        "                            (10, 30), cv2.FONT_HERSHEY_SIMPLEX, 0.8, (255,255,255), 2)\n",
        "\n",
        "                cv2.imshow(\"Frame\", display_resized)\n",
        "                key = cv2.waitKey(20) & 0xFF\n",
        "\n",
        "                if key == ord('n'):\n",
        "                    break\n",
        "                elif key == 27:\n",
        "                    cv2.destroyAllWindows()\n",
        "                    return self._finalize()\n",
        "\n",
        "            self.current_frame += 1\n",
        "\n",
        "        cv2.destroyAllWindows()\n",
        "        return self._finalize()\n",
        "\n",
        "    def _finalize(self):\n",
        "        self.points[self.edited_flags, 2] = 1.0\n",
        "        return self.points\n",
        "\n",
        "    def mouse_event(self, event, x, y, flags, param):\n",
        "        x = int(x / self.scale)\n",
        "        y = int(y / self.scale)\n",
        "\n",
        "        frame_points = self.points[self.current_frame]\n",
        "\n",
        "        if event == cv2.EVENT_LBUTTONDOWN:\n",
        "            for idx, pt in enumerate(frame_points):\n",
        "                px, py, _ = pt\n",
        "                if np.linalg.norm(np.array([px, py]) - np.array([x, y])) < self.radius * 2:\n",
        "                    self.dragging_point = idx\n",
        "                    break\n",
        "\n",
        "        elif event == cv2.EVENT_MOUSEMOVE and self.dragging_point is not None:\n",
        "            self.points[self.current_frame, self.dragging_point, 0] = x\n",
        "            self.points[self.current_frame, self.dragging_point, 1] = y\n",
        "            self.edited_flags[self.current_frame, self.dragging_point] = True\n",
        "\n",
        "        elif event == cv2.EVENT_LBUTTONUP:\n",
        "            self.dragging_point = None\n",
        "\n"
      ]
    },
    {
      "cell_type": "code",
      "execution_count": 43,
      "metadata": {},
      "outputs": [],
      "source": [
        "import numpy as np\n",
        "\n",
        "# Load your .npz file\n",
        "video = video_array\n",
        "updated_points = keypoints[0]"
      ]
    },
    {
      "cell_type": "code",
      "execution_count": 44,
      "metadata": {
        "colab": {
          "base_uri": "https://localhost:8080/",
          "height": 211
        },
        "id": "RNiN2WWahQOk",
        "outputId": "3b2c6611-c5c7-4d72-e8df-4095194234f2"
      },
      "outputs": [],
      "source": [
        "\n",
        "# Edit\n",
        "editor = PointEditor(video, updated_points)\n",
        "updated_points = editor.edit()\n",
        "\n",
        "# Save if needed\n",
        "np.savez(video_path+pitcher_name+\"_fixed.npz\", points=updated_points, video=video)\n",
        "np.save(video_path+pitcher_name+\"_fixed.npy\", updated_points)\n"
      ]
    }
  ],
  "metadata": {
    "colab": {
      "provenance": []
    },
    "kernelspec": {
      "display_name": "Python 3",
      "name": "python3"
    },
    "language_info": {
      "codemirror_mode": {
        "name": "ipython",
        "version": 3
      },
      "file_extension": ".py",
      "mimetype": "text/x-python",
      "name": "python",
      "nbconvert_exporter": "python",
      "pygments_lexer": "ipython3",
      "version": "3.12.9"
    }
  },
  "nbformat": 4,
  "nbformat_minor": 0
}
