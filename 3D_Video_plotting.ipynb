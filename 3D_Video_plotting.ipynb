{
  "cells": [
    {
      "cell_type": "code",
      "execution_count": null,
      "metadata": {
        "id": "W_HV4mfr_zeq"
      },
      "outputs": [],
      "source": [
        "import numpy as np\n",
        "import os\n",
        "import cv2\n",
        "import matplotlib.pyplot as plt\n",
        "from mpl_toolkits.mplot3d import Axes3D\n",
        "import matplotlib.gridspec as gridspec\n",
        "import IPython.display as display\n",
        "import time\n",
        "from PIL import Image"
      ]
    },
    {
      "cell_type": "markdown",
      "metadata": {},
      "source": []
    },
    {
      "cell_type": "markdown",
      "metadata": {
        "id": "gUQNthGx22CS"
      },
      "source": [
        "## Uploading file manually"
      ]
    },
    {
      "cell_type": "code",
      "execution_count": null,
      "metadata": {
        "colab": {
          "base_uri": "https://localhost:8080/",
          "height": 73
        },
        "id": "N-Dak30fbepE",
        "outputId": "2a400141-940f-4f7d-be1a-0f8d2c6fddbe"
      },
      "outputs": [],
      "source": [
        "data = np.load('cropped_03ded186-0f82-41ca-aad6-c071fded0b82_0.npy', allow_pickle=True)"
      ]
    },
    {
      "cell_type": "code",
      "execution_count": null,
      "metadata": {
        "colab": {
          "base_uri": "https://localhost:8080/"
        },
        "id": "Vnel9bUSbr1Y",
        "outputId": "f7f73c99-0eb9-48a9-84d2-bfb2b8553466"
      },
      "outputs": [],
      "source": [
        "# See type and shape\n",
        "print(type(data))\n",
        "try:\n",
        "    print(data.shape)\n",
        "except:\n",
        "    pass"
      ]
    },
    {
      "cell_type": "code",
      "execution_count": null,
      "metadata": {
        "colab": {
          "base_uri": "https://localhost:8080/"
        },
        "id": "DDfQ2EsOdLFW",
        "outputId": "dcec8e84-49e3-4915-f629-3a7903ace8da"
      },
      "outputs": [],
      "source": [
        "!git clone https://github.com/TaatiTeam/MotionAGFormer.git\n",
        "%cd MotionAGFormer"
      ]
    },
    {
      "cell_type": "code",
      "execution_count": null,
      "metadata": {},
      "outputs": [],
      "source": [
        "import os\n",
        "import cv2\n",
        "import numpy as np\n",
        "import matplotlib.pyplot as plt\n",
        "from matplotlib import gridspec\n",
        "from mpl_toolkits.mplot3d import Axes3D\n",
        "\n",
        "def show3Dpose(vals, ax):\n",
        "    ax.view_init(elev=15., azim=70)\n",
        "\n",
        "    lcolor = (0, 0, 1)  # Blue\n",
        "    rcolor = (1, 0, 0)  # Red\n",
        "\n",
        "    I = np.array([0, 0, 1, 4, 2, 5, 0, 7, 8, 8, 14, 15, 11, 12, 8, 9])\n",
        "    J = np.array([1, 4, 2, 5, 3, 6, 7, 8, 14, 11, 15, 16, 12, 13, 9, 10])\n",
        "    LR = np.array([0, 1, 0, 1, 0, 1, 0, 0, 0, 1, 0, 0, 1, 1, 0, 0], dtype=bool)\n",
        "\n",
        "    for i in range(len(I)):\n",
        "        x, y, z = [np.array([vals[I[i], j], vals[J[i], j]]) for j in range(3)]\n",
        "        ax.plot(x, y, z, lw=2, color=lcolor if LR[i] else rcolor)\n",
        "\n",
        "    RADIUS = 0.72\n",
        "    RADIUS_Z = 0.7\n",
        "    xroot, yroot, zroot = vals[0, 0], vals[0, 1], vals[0, 2]\n",
        "    ax.set_xlim3d([-RADIUS + xroot, RADIUS + xroot])\n",
        "    ax.set_ylim3d([-RADIUS + yroot, RADIUS + yroot])\n",
        "    ax.set_zlim3d([-RADIUS_Z + zroot, RADIUS_Z + zroot])\n",
        "    ax.set_aspect('auto')\n",
        "\n",
        "    white = (1.0, 1.0, 1.0, 0.0)\n",
        "    ax.xaxis.set_pane_color(white)\n",
        "    ax.yaxis.set_pane_color(white)\n",
        "    ax.zaxis.set_pane_color(white)\n",
        "\n",
        "    ax.tick_params('x', labelbottom=False)\n",
        "    ax.tick_params('y', labelleft=False)\n",
        "    ax.tick_params('z', labelleft=False)\n",
        "\n",
        "\n",
        "def create_pose_video(data, output_video_path=\"pose_video.mp4\", frame_folder=\"pose_frames\", fps=20):\n",
        "    \"\"\"\n",
        "    Create a 3D pose animation video from a numpy array.\n",
        "    \n",
        "    Args:\n",
        "        data (np.ndarray): Shape (num_frames, num_joints, 3)\n",
        "        output_video_path (str): Output path for the .mp4 video\n",
        "        frame_folder (str): Temporary folder to save frames\n",
        "        fps (int): Frames per second for output video\n",
        "    \"\"\"\n",
        "    os.makedirs(frame_folder, exist_ok=True)\n",
        "\n",
        "    for i, frame in enumerate(data):\n",
        "        fig = plt.figure(figsize=(6, 6))\n",
        "        gs = gridspec.GridSpec(1, 1)\n",
        "        ax = plt.subplot(gs[0], projection='3d')\n",
        "        show3Dpose(frame, ax)\n",
        "        frame_path = os.path.join(frame_folder, f\"{i:04d}.png\")\n",
        "        plt.savefig(frame_path, dpi=100, bbox_inches='tight')\n",
        "        plt.close(fig)\n",
        "\n",
        "    # Get video dimensions from first frame\n",
        "    img = cv2.imread(os.path.join(frame_folder, \"0000.png\"))\n",
        "    height, width, _ = img.shape\n",
        "    video = cv2.VideoWriter(output_video_path, cv2.VideoWriter_fourcc(*'mp4v'), fps, (width, height))\n",
        "\n",
        "    for i in range(len(data)):\n",
        "        img = cv2.imread(os.path.join(frame_folder, f\"{i:04d}.png\"))\n",
        "        video.write(img)\n",
        "\n",
        "    video.release()\n",
        "    print(f\"Video saved to {output_video_path}\")\n"
      ]
    },
    {
      "cell_type": "code",
      "execution_count": null,
      "metadata": {},
      "outputs": [],
      "source": [
        "create_pose_video(data, output_video_path=\"test_pose_video.mp4\")"
      ]
    },
    {
      "cell_type": "code",
      "execution_count": null,
      "metadata": {},
      "outputs": [],
      "source": [
        "import boto3\n",
        "import tempfile\n",
        "def list_and_play_mp4_from_s3(bucket_name, prefix, aws_access_key_id=None, aws_secret_access_key=None, region_name='us-east-2'):\n",
        "    if aws_access_key_id and aws_secret_access_key:\n",
        "        s3 = boto3.client(\n",
        "            's3',\n",
        "            aws_access_key_id=aws_access_key_id,\n",
        "            aws_secret_access_key=aws_secret_access_key,\n",
        "            region_name=region_name\n",
        "        )\n",
        "    else:\n",
        "        s3 = boto3.client('s3')\n",
        "\n",
        "    paginator = s3.get_paginator('list_objects_v2')\n",
        "    pages = paginator.paginate(Bucket=bucket_name, Prefix=prefix)\n",
        "\n",
        "    count = 0\n",
        "    for page in pages:\n",
        "        if 'Contents' in page:\n",
        "            for obj in page['Contents']:\n",
        "                key = obj['Key']\n",
        "                if key.endswith('.npy'):\n",
        "                    print(f\"\\n[INFO] Processing: {key}\")\n",
        "\n",
        "                    with tempfile.NamedTemporaryFile(delete=False, suffix=\".npy\") as temp_file:\n",
        "                        temp_path = temp_file.name\n",
        "                    count += 1\n",
        "                    if count == 5:\n",
        "                        break\n",
        "                    try:\n",
        "                        s3.download_file(bucket_name, key, temp_path)\n",
        "                        data = np.load(temp_path)\n",
        "                        print(data)\n",
        "                        base_name = os.path.splitext(os.path.basename(key))[0]\n",
        "                        output_video_path = f\"{base_name}_pose_video.mp4\"\n",
        "                        create_pose_video(data, output_video_path=output_video_path)\n",
        "                    except:\n",
        "                        print(\"FAILED\")\n",
        "\n",
        "\n",
        "list_and_play_mp4_from_s3('shadow-trainer-dev', 'pose_numpy/','','')\n"
      ]
    }
  ],
  "metadata": {
    "colab": {
      "provenance": []
    },
    "kernelspec": {
      "display_name": "Python 3",
      "name": "python3"
    },
    "language_info": {
      "codemirror_mode": {
        "name": "ipython",
        "version": 3
      },
      "file_extension": ".py",
      "mimetype": "text/x-python",
      "name": "python",
      "nbconvert_exporter": "python",
      "pygments_lexer": "ipython3",
      "version": "3.12.9"
    }
  },
  "nbformat": 4,
  "nbformat_minor": 0
}
